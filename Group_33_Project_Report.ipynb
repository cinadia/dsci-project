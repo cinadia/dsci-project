{
 "cells": [
  {
   "cell_type": "markdown",
   "metadata": {},
   "source": [
    "# Predicting Knowledge Level Using User Knowledge Data\n",
    "\n",
    "A user knowledge model has the goal of improving conceptual understanding in users. Its system has the ability to adapt to a certain user’s individual learning ability, improving their competence in grasping new concepts. Therefore, creating a well built learning model is crucial in creating dynamic and automated learning environments. \n",
    "\n",
    "The following project uses a user knowledge modeling data set collected by Hamdi Tolga Kahraman (2013) to answer the following question:\n",
    "\n",
    "**How high will somebody’s knowledge score be based on their study time, exam performance, and prerequisite knowledge?**\n",
    "\n",
    "The data set contains 405 observations from participants who prepared for and took an exam on Electrical DC Machines. They took two exams: one on prerequisite material, and one on targeted material based on prerequisite material. It includes columns for the degree of study time and exam performance for both prerequisite knowledge and new knowledge topics, the degree of repetition, and the user’s knowledge level. The user knowledge level column has four categories: very low, low, middle, and high. No information about the age group or educational background of subjects was found. \n",
    "\n",
    "\n",
    "All columns are recognized as type double with the exception of the user knowledge level (character variable). The data appears to be already normalized since all values (except the user’s knowledge level) fit in the range of 0 and 1. The dataset is almost tidy - however there is a description of the data in an extra column, but the number data is tidy."
   ]
  },
  {
   "cell_type": "markdown",
   "metadata": {},
   "source": [
    "________________________________________________________________________________________________________________________"
   ]
  },
  {
   "cell_type": "markdown",
   "metadata": {},
   "source": [
    "# *Data Analysis*\n",
    "We begin by analyzing our data. First we load the libraries and set our seed."
   ]
  },
  {
   "cell_type": "code",
   "execution_count": 1,
   "metadata": {},
   "outputs": [
    {
     "name": "stderr",
     "output_type": "stream",
     "text": [
      "── \u001b[1mAttaching packages\u001b[22m ─────────────────────────────────────── tidyverse 1.3.0 ──\n",
      "\n",
      "\u001b[32m✔\u001b[39m \u001b[34mggplot2\u001b[39m 3.3.2     \u001b[32m✔\u001b[39m \u001b[34mpurrr  \u001b[39m 0.3.4\n",
      "\u001b[32m✔\u001b[39m \u001b[34mtibble \u001b[39m 3.0.3     \u001b[32m✔\u001b[39m \u001b[34mdplyr  \u001b[39m 1.0.2\n",
      "\u001b[32m✔\u001b[39m \u001b[34mtidyr  \u001b[39m 1.1.2     \u001b[32m✔\u001b[39m \u001b[34mstringr\u001b[39m 1.4.0\n",
      "\u001b[32m✔\u001b[39m \u001b[34mreadr  \u001b[39m 1.3.1     \u001b[32m✔\u001b[39m \u001b[34mforcats\u001b[39m 0.5.0\n",
      "\n",
      "Warning message:\n",
      "“package ‘ggplot2’ was built under R version 4.0.1”\n",
      "Warning message:\n",
      "“package ‘tibble’ was built under R version 4.0.2”\n",
      "Warning message:\n",
      "“package ‘tidyr’ was built under R version 4.0.2”\n",
      "Warning message:\n",
      "“package ‘dplyr’ was built under R version 4.0.2”\n",
      "── \u001b[1mConflicts\u001b[22m ────────────────────────────────────────── tidyverse_conflicts() ──\n",
      "\u001b[31m✖\u001b[39m \u001b[34mdplyr\u001b[39m::\u001b[32mfilter()\u001b[39m masks \u001b[34mstats\u001b[39m::filter()\n",
      "\u001b[31m✖\u001b[39m \u001b[34mdplyr\u001b[39m::\u001b[32mlag()\u001b[39m    masks \u001b[34mstats\u001b[39m::lag()\n",
      "\n",
      "Warning message:\n",
      "“package ‘tidymodels’ was built under R version 4.0.2”\n",
      "── \u001b[1mAttaching packages\u001b[22m ────────────────────────────────────── tidymodels 0.1.1 ──\n",
      "\n",
      "\u001b[32m✔\u001b[39m \u001b[34mbroom    \u001b[39m 0.7.0      \u001b[32m✔\u001b[39m \u001b[34mrecipes  \u001b[39m 0.1.13\n",
      "\u001b[32m✔\u001b[39m \u001b[34mdials    \u001b[39m 0.0.9      \u001b[32m✔\u001b[39m \u001b[34mrsample  \u001b[39m 0.0.7 \n",
      "\u001b[32m✔\u001b[39m \u001b[34minfer    \u001b[39m 0.5.4      \u001b[32m✔\u001b[39m \u001b[34mtune     \u001b[39m 0.1.1 \n",
      "\u001b[32m✔\u001b[39m \u001b[34mmodeldata\u001b[39m 0.0.2      \u001b[32m✔\u001b[39m \u001b[34mworkflows\u001b[39m 0.2.0 \n",
      "\u001b[32m✔\u001b[39m \u001b[34mparsnip  \u001b[39m 0.1.3      \u001b[32m✔\u001b[39m \u001b[34myardstick\u001b[39m 0.0.7 \n",
      "\n",
      "Warning message:\n",
      "“package ‘broom’ was built under R version 4.0.2”\n",
      "Warning message:\n",
      "“package ‘dials’ was built under R version 4.0.2”\n",
      "Warning message:\n",
      "“package ‘infer’ was built under R version 4.0.3”\n",
      "Warning message:\n",
      "“package ‘modeldata’ was built under R version 4.0.1”\n",
      "Warning message:\n",
      "“package ‘parsnip’ was built under R version 4.0.2”\n",
      "Warning message:\n",
      "“package ‘recipes’ was built under R version 4.0.1”\n",
      "Warning message:\n",
      "“package ‘tune’ was built under R version 4.0.2”\n",
      "Warning message:\n",
      "“package ‘workflows’ was built under R version 4.0.2”\n",
      "Warning message:\n",
      "“package ‘yardstick’ was built under R version 4.0.2”\n",
      "── \u001b[1mConflicts\u001b[22m ───────────────────────────────────────── tidymodels_conflicts() ──\n",
      "\u001b[31m✖\u001b[39m \u001b[34mscales\u001b[39m::\u001b[32mdiscard()\u001b[39m masks \u001b[34mpurrr\u001b[39m::discard()\n",
      "\u001b[31m✖\u001b[39m \u001b[34mdplyr\u001b[39m::\u001b[32mfilter()\u001b[39m   masks \u001b[34mstats\u001b[39m::filter()\n",
      "\u001b[31m✖\u001b[39m \u001b[34mrecipes\u001b[39m::\u001b[32mfixed()\u001b[39m  masks \u001b[34mstringr\u001b[39m::fixed()\n",
      "\u001b[31m✖\u001b[39m \u001b[34mdplyr\u001b[39m::\u001b[32mlag()\u001b[39m      masks \u001b[34mstats\u001b[39m::lag()\n",
      "\u001b[31m✖\u001b[39m \u001b[34myardstick\u001b[39m::\u001b[32mspec()\u001b[39m masks \u001b[34mreadr\u001b[39m::spec()\n",
      "\u001b[31m✖\u001b[39m \u001b[34mrecipes\u001b[39m::\u001b[32mstep()\u001b[39m   masks \u001b[34mstats\u001b[39m::step()\n",
      "\n",
      "Registered S3 method overwritten by 'GGally':\n",
      "  method from   \n",
      "  +.gg   ggplot2\n",
      "\n",
      "Warning message:\n",
      "“package ‘cowplot’ was built under R version 4.0.3”\n"
     ]
    }
   ],
   "source": [
    "library(tidyverse)\n",
    "library(repr)\n",
    "library(readxl)\n",
    "library(tidymodels)\n",
    "library(GGally)\n",
    "library(cowplot)\n",
    "\n",
    "set.seed(1)"
   ]
  },
  {
   "cell_type": "markdown",
   "metadata": {},
   "source": [
    "Then, we will read our dataset from the web; we will clean and wrangle it into a tidy format. We will unselect the data description and two empty columns, rename columns and mutate the classification label to a factor. All predictor variables will be used to later determine which of them are appropriate. "
   ]
  },
  {
   "cell_type": "code",
   "execution_count": 2,
   "metadata": {},
   "outputs": [
    {
     "name": "stderr",
     "output_type": "stream",
     "text": [
      "New names:\n",
      "* `` -> ...7\n",
      "* `` -> ...8\n",
      "\n"
     ]
    },
    {
     "data": {
      "text/html": [
       "<table>\n",
       "<caption>A tibble: 6 × 6</caption>\n",
       "<thead>\n",
       "\t<tr><th scope=col>targeted_study_time</th><th scope=col>repetition</th><th scope=col>prereq_study_time</th><th scope=col>prereq_exam_performance</th><th scope=col>targeted_exam_performance</th><th scope=col>understanding_level</th></tr>\n",
       "\t<tr><th scope=col>&lt;dbl&gt;</th><th scope=col>&lt;dbl&gt;</th><th scope=col>&lt;dbl&gt;</th><th scope=col>&lt;dbl&gt;</th><th scope=col>&lt;dbl&gt;</th><th scope=col>&lt;fct&gt;</th></tr>\n",
       "</thead>\n",
       "<tbody>\n",
       "\t<tr><td>0.00</td><td>0.00</td><td>0.00</td><td>0.00</td><td>0.00</td><td>very_low</td></tr>\n",
       "\t<tr><td>0.08</td><td>0.08</td><td>0.10</td><td>0.24</td><td>0.90</td><td>High    </td></tr>\n",
       "\t<tr><td>0.06</td><td>0.06</td><td>0.05</td><td>0.25</td><td>0.33</td><td>Low     </td></tr>\n",
       "\t<tr><td>0.10</td><td>0.10</td><td>0.15</td><td>0.65</td><td>0.30</td><td>Middle  </td></tr>\n",
       "\t<tr><td>0.08</td><td>0.08</td><td>0.08</td><td>0.98</td><td>0.24</td><td>Low     </td></tr>\n",
       "\t<tr><td>0.09</td><td>0.15</td><td>0.40</td><td>0.10</td><td>0.66</td><td>Middle  </td></tr>\n",
       "</tbody>\n",
       "</table>\n"
      ],
      "text/latex": [
       "A tibble: 6 × 6\n",
       "\\begin{tabular}{llllll}\n",
       " targeted\\_study\\_time & repetition & prereq\\_study\\_time & prereq\\_exam\\_performance & targeted\\_exam\\_performance & understanding\\_level\\\\\n",
       " <dbl> & <dbl> & <dbl> & <dbl> & <dbl> & <fct>\\\\\n",
       "\\hline\n",
       "\t 0.00 & 0.00 & 0.00 & 0.00 & 0.00 & very\\_low\\\\\n",
       "\t 0.08 & 0.08 & 0.10 & 0.24 & 0.90 & High    \\\\\n",
       "\t 0.06 & 0.06 & 0.05 & 0.25 & 0.33 & Low     \\\\\n",
       "\t 0.10 & 0.10 & 0.15 & 0.65 & 0.30 & Middle  \\\\\n",
       "\t 0.08 & 0.08 & 0.08 & 0.98 & 0.24 & Low     \\\\\n",
       "\t 0.09 & 0.15 & 0.40 & 0.10 & 0.66 & Middle  \\\\\n",
       "\\end{tabular}\n"
      ],
      "text/markdown": [
       "\n",
       "A tibble: 6 × 6\n",
       "\n",
       "| targeted_study_time &lt;dbl&gt; | repetition &lt;dbl&gt; | prereq_study_time &lt;dbl&gt; | prereq_exam_performance &lt;dbl&gt; | targeted_exam_performance &lt;dbl&gt; | understanding_level &lt;fct&gt; |\n",
       "|---|---|---|---|---|---|\n",
       "| 0.00 | 0.00 | 0.00 | 0.00 | 0.00 | very_low |\n",
       "| 0.08 | 0.08 | 0.10 | 0.24 | 0.90 | High     |\n",
       "| 0.06 | 0.06 | 0.05 | 0.25 | 0.33 | Low      |\n",
       "| 0.10 | 0.10 | 0.15 | 0.65 | 0.30 | Middle   |\n",
       "| 0.08 | 0.08 | 0.08 | 0.98 | 0.24 | Low      |\n",
       "| 0.09 | 0.15 | 0.40 | 0.10 | 0.66 | Middle   |\n",
       "\n"
      ],
      "text/plain": [
       "  targeted_study_time repetition prereq_study_time prereq_exam_performance\n",
       "1 0.00                0.00       0.00              0.00                   \n",
       "2 0.08                0.08       0.10              0.24                   \n",
       "3 0.06                0.06       0.05              0.25                   \n",
       "4 0.10                0.10       0.15              0.65                   \n",
       "5 0.08                0.08       0.08              0.98                   \n",
       "6 0.09                0.15       0.40              0.10                   \n",
       "  targeted_exam_performance understanding_level\n",
       "1 0.00                      very_low           \n",
       "2 0.90                      High               \n",
       "3 0.33                      Low                \n",
       "4 0.30                      Middle             \n",
       "5 0.24                      Low                \n",
       "6 0.66                      Middle             "
      ]
     },
     "metadata": {},
     "output_type": "display_data"
    }
   ],
   "source": [
    "downloaded_data <- download.file(\"https://archive.ics.uci.edu/ml/machine-learning-databases/00257/Data_User_Modeling_Dataset_Hamdi%20Tolga%20KAHRAMAN.xls\", \n",
    "                                \"knowledge.xls\")\n",
    "\n",
    "user_knowledge_data <- read_excel(\"knowledge.xls\", \n",
    "                                  sheet = 2) %>%  #data we want is on page 2 of the excel file\n",
    "    select(-\"...7\", -\"...8\", -\"Attribute Information:\")  # unselect unnecessary columns\n",
    "\n",
    "# rename columns\n",
    "colnames(user_knowledge_data) <- c(\"targeted_study_time\", \n",
    "                                   \"repetition\", \n",
    "                                   \"prereq_study_time\", \n",
    "                                   \"prereq_exam_performance\", \n",
    "                                   \"targeted_exam_performance\", \n",
    "                                   \"understanding_level\")\n",
    "\n",
    "# change class label to factor \n",
    "user_knowledge_data <- user_knowledge_data %>%\n",
    "    mutate(understanding_level = as_factor(understanding_level)) \n",
    "\n",
    "head(user_knowledge_data)"
   ]
  },
  {
   "cell_type": "markdown",
   "metadata": {},
   "source": [
    "                                Table.1 User Knowledge Data\n",
    "---"
   ]
  },
  {
   "cell_type": "markdown",
   "metadata": {},
   "source": [
    "Now that the data is tidied, we can split it into training and testing sets. Prop values were not discussed in class, so a default 75% split will be used. The testing data set is put aside until the model is built."
   ]
  },
  {
   "cell_type": "code",
   "execution_count": 3,
   "metadata": {},
   "outputs": [],
   "source": [
    "set.seed(1)\n",
    "knowledge_split <- initial_split(user_knowledge_data, prop = .75, strata = understanding_level)\n",
    "knowledge_train <- training(knowledge_split)\n",
    "knowledge_test <- testing(knowledge_split)"
   ]
  },
  {
   "cell_type": "markdown",
   "metadata": {},
   "source": [
    "## Examining Our Data\n",
    "Next, the training data is summarized in informative tables. These include:\n",
    "- means, max, min of each predictor\n",
    "- how many of each label exist in the data frame"
   ]
  },
  {
   "cell_type": "code",
   "execution_count": 4,
   "metadata": {},
   "outputs": [
    {
     "data": {
      "text/html": [
       "<table>\n",
       "<caption>A tibble: 1 × 5</caption>\n",
       "<thead>\n",
       "\t<tr><th scope=col>target_study_time_mean</th><th scope=col>repetition_mean</th><th scope=col>prereq_study_time_mean</th><th scope=col>prereq_exam_performance_mean</th><th scope=col>targeted_exam_performance_mean</th></tr>\n",
       "\t<tr><th scope=col>&lt;dbl&gt;</th><th scope=col>&lt;dbl&gt;</th><th scope=col>&lt;dbl&gt;</th><th scope=col>&lt;dbl&gt;</th><th scope=col>&lt;dbl&gt;</th></tr>\n",
       "</thead>\n",
       "<tbody>\n",
       "\t<tr><td>0.3750154</td><td>0.3527385</td><td>0.4640769</td><td>0.4234872</td><td>0.4546821</td></tr>\n",
       "</tbody>\n",
       "</table>\n"
      ],
      "text/latex": [
       "A tibble: 1 × 5\n",
       "\\begin{tabular}{lllll}\n",
       " target\\_study\\_time\\_mean & repetition\\_mean & prereq\\_study\\_time\\_mean & prereq\\_exam\\_performance\\_mean & targeted\\_exam\\_performance\\_mean\\\\\n",
       " <dbl> & <dbl> & <dbl> & <dbl> & <dbl>\\\\\n",
       "\\hline\n",
       "\t 0.3750154 & 0.3527385 & 0.4640769 & 0.4234872 & 0.4546821\\\\\n",
       "\\end{tabular}\n"
      ],
      "text/markdown": [
       "\n",
       "A tibble: 1 × 5\n",
       "\n",
       "| target_study_time_mean &lt;dbl&gt; | repetition_mean &lt;dbl&gt; | prereq_study_time_mean &lt;dbl&gt; | prereq_exam_performance_mean &lt;dbl&gt; | targeted_exam_performance_mean &lt;dbl&gt; |\n",
       "|---|---|---|---|---|\n",
       "| 0.3750154 | 0.3527385 | 0.4640769 | 0.4234872 | 0.4546821 |\n",
       "\n"
      ],
      "text/plain": [
       "  target_study_time_mean repetition_mean prereq_study_time_mean\n",
       "1 0.3750154              0.3527385       0.4640769             \n",
       "  prereq_exam_performance_mean targeted_exam_performance_mean\n",
       "1 0.4234872                    0.4546821                     "
      ]
     },
     "metadata": {},
     "output_type": "display_data"
    }
   ],
   "source": [
    "knowledge_train_means <- knowledge_train %>%\n",
    "    summarize(target_study_time_mean = mean(targeted_study_time),\n",
    "          repetition_mean = mean(repetition),\n",
    "          prereq_study_time_mean = mean(prereq_study_time),\n",
    "          prereq_exam_performance_mean = mean(prereq_exam_performance),\n",
    "          targeted_exam_performance_mean = mean(targeted_exam_performance)) \n",
    "knowledge_train_means"
   ]
  },
  {
   "cell_type": "markdown",
   "metadata": {},
   "source": [
    "                            Table.2 User Knowledge Data Predictor Means\n",
    "---"
   ]
  },
  {
   "cell_type": "markdown",
   "metadata": {},
   "source": [
    "For the mean table, the data appears to be well scaled since the means are all within a similar range. This suggests that we may not need to scale/center our data, although this will be done to ensure accuracy."
   ]
  },
  {
   "cell_type": "code",
   "execution_count": 5,
   "metadata": {},
   "outputs": [
    {
     "data": {
      "text/html": [
       "<table>\n",
       "<caption>A tibble: 1 × 5</caption>\n",
       "<thead>\n",
       "\t<tr><th scope=col>target_study_time_max</th><th scope=col>repetition_max</th><th scope=col>prereq_study_time_max</th><th scope=col>prereq_exam_performance_max</th><th scope=col>targeted_exam_performance_max</th></tr>\n",
       "\t<tr><th scope=col>&lt;dbl&gt;</th><th scope=col>&lt;dbl&gt;</th><th scope=col>&lt;dbl&gt;</th><th scope=col>&lt;dbl&gt;</th><th scope=col>&lt;dbl&gt;</th></tr>\n",
       "</thead>\n",
       "<tbody>\n",
       "\t<tr><td>0.99</td><td>0.9</td><td>0.95</td><td>0.99</td><td>0.93</td></tr>\n",
       "</tbody>\n",
       "</table>\n"
      ],
      "text/latex": [
       "A tibble: 1 × 5\n",
       "\\begin{tabular}{lllll}\n",
       " target\\_study\\_time\\_max & repetition\\_max & prereq\\_study\\_time\\_max & prereq\\_exam\\_performance\\_max & targeted\\_exam\\_performance\\_max\\\\\n",
       " <dbl> & <dbl> & <dbl> & <dbl> & <dbl>\\\\\n",
       "\\hline\n",
       "\t 0.99 & 0.9 & 0.95 & 0.99 & 0.93\\\\\n",
       "\\end{tabular}\n"
      ],
      "text/markdown": [
       "\n",
       "A tibble: 1 × 5\n",
       "\n",
       "| target_study_time_max &lt;dbl&gt; | repetition_max &lt;dbl&gt; | prereq_study_time_max &lt;dbl&gt; | prereq_exam_performance_max &lt;dbl&gt; | targeted_exam_performance_max &lt;dbl&gt; |\n",
       "|---|---|---|---|---|\n",
       "| 0.99 | 0.9 | 0.95 | 0.99 | 0.93 |\n",
       "\n"
      ],
      "text/plain": [
       "  target_study_time_max repetition_max prereq_study_time_max\n",
       "1 0.99                  0.9            0.95                 \n",
       "  prereq_exam_performance_max targeted_exam_performance_max\n",
       "1 0.99                        0.93                         "
      ]
     },
     "metadata": {},
     "output_type": "display_data"
    },
    {
     "data": {
      "text/html": [
       "<table>\n",
       "<caption>A tibble: 1 × 5</caption>\n",
       "<thead>\n",
       "\t<tr><th scope=col>target_study_time_min</th><th scope=col>repetition_min</th><th scope=col>prereq_study_time_min</th><th scope=col>prereq_exam_performance_min</th><th scope=col>targeted_exam_performance_min</th></tr>\n",
       "\t<tr><th scope=col>&lt;dbl&gt;</th><th scope=col>&lt;dbl&gt;</th><th scope=col>&lt;dbl&gt;</th><th scope=col>&lt;dbl&gt;</th><th scope=col>&lt;dbl&gt;</th></tr>\n",
       "</thead>\n",
       "<tbody>\n",
       "\t<tr><td>0</td><td>0</td><td>0</td><td>0</td><td>0</td></tr>\n",
       "</tbody>\n",
       "</table>\n"
      ],
      "text/latex": [
       "A tibble: 1 × 5\n",
       "\\begin{tabular}{lllll}\n",
       " target\\_study\\_time\\_min & repetition\\_min & prereq\\_study\\_time\\_min & prereq\\_exam\\_performance\\_min & targeted\\_exam\\_performance\\_min\\\\\n",
       " <dbl> & <dbl> & <dbl> & <dbl> & <dbl>\\\\\n",
       "\\hline\n",
       "\t 0 & 0 & 0 & 0 & 0\\\\\n",
       "\\end{tabular}\n"
      ],
      "text/markdown": [
       "\n",
       "A tibble: 1 × 5\n",
       "\n",
       "| target_study_time_min &lt;dbl&gt; | repetition_min &lt;dbl&gt; | prereq_study_time_min &lt;dbl&gt; | prereq_exam_performance_min &lt;dbl&gt; | targeted_exam_performance_min &lt;dbl&gt; |\n",
       "|---|---|---|---|---|\n",
       "| 0 | 0 | 0 | 0 | 0 |\n",
       "\n"
      ],
      "text/plain": [
       "  target_study_time_min repetition_min prereq_study_time_min\n",
       "1 0                     0              0                    \n",
       "  prereq_exam_performance_min targeted_exam_performance_min\n",
       "1 0                           0                            "
      ]
     },
     "metadata": {},
     "output_type": "display_data"
    }
   ],
   "source": [
    "knowledge_train_max <- knowledge_train %>% \n",
    "    summarize(target_study_time_max = max(targeted_study_time),\n",
    "          repetition_max = max(repetition),\n",
    "          prereq_study_time_max = max(prereq_study_time),\n",
    "          prereq_exam_performance_max = max(prereq_exam_performance),\n",
    "          targeted_exam_performance_max = max(targeted_exam_performance)) \n",
    "knowledge_train_max\n",
    "\n",
    "knowledge_train_min <- knowledge_train %>%\n",
    "    summarize(target_study_time_min = min(targeted_study_time),\n",
    "          repetition_min = min(repetition),\n",
    "          prereq_study_time_min = min(prereq_study_time),\n",
    "          prereq_exam_performance_min = min(prereq_exam_performance),\n",
    "          targeted_exam_performance_min = min(targeted_exam_performance)) \n",
    "knowledge_train_min"
   ]
  },
  {
   "cell_type": "markdown",
   "metadata": {},
   "source": [
    "                        Table.3 User Knowledge Data Predictors Min & Max\n",
    "---"
   ]
  },
  {
   "cell_type": "markdown",
   "metadata": {},
   "source": [
    "The min/max values show the range of each predictor (0-0.99), and confirm that some of the participants indeed had very high or very low levels of understanding. "
   ]
  },
  {
   "cell_type": "code",
   "execution_count": 6,
   "metadata": {},
   "outputs": [
    {
     "name": "stderr",
     "output_type": "stream",
     "text": [
      "`summarise()` ungrouping output (override with `.groups` argument)\n",
      "\n"
     ]
    },
    {
     "data": {
      "text/html": [
       "<table>\n",
       "<caption>A tibble: 4 × 2</caption>\n",
       "<thead>\n",
       "\t<tr><th scope=col>understanding_level</th><th scope=col>count</th></tr>\n",
       "\t<tr><th scope=col>&lt;fct&gt;</th><th scope=col>&lt;int&gt;</th></tr>\n",
       "</thead>\n",
       "<tbody>\n",
       "\t<tr><td>very_low</td><td>20</td></tr>\n",
       "\t<tr><td>High    </td><td>47</td></tr>\n",
       "\t<tr><td>Low     </td><td>62</td></tr>\n",
       "\t<tr><td>Middle  </td><td>66</td></tr>\n",
       "</tbody>\n",
       "</table>\n"
      ],
      "text/latex": [
       "A tibble: 4 × 2\n",
       "\\begin{tabular}{ll}\n",
       " understanding\\_level & count\\\\\n",
       " <fct> & <int>\\\\\n",
       "\\hline\n",
       "\t very\\_low & 20\\\\\n",
       "\t High     & 47\\\\\n",
       "\t Low      & 62\\\\\n",
       "\t Middle   & 66\\\\\n",
       "\\end{tabular}\n"
      ],
      "text/markdown": [
       "\n",
       "A tibble: 4 × 2\n",
       "\n",
       "| understanding_level &lt;fct&gt; | count &lt;int&gt; |\n",
       "|---|---|\n",
       "| very_low | 20 |\n",
       "| High     | 47 |\n",
       "| Low      | 62 |\n",
       "| Middle   | 66 |\n",
       "\n"
      ],
      "text/plain": [
       "  understanding_level count\n",
       "1 very_low            20   \n",
       "2 High                47   \n",
       "3 Low                 62   \n",
       "4 Middle              66   "
      ]
     },
     "metadata": {},
     "output_type": "display_data"
    }
   ],
   "source": [
    "knowledge_labels <- knowledge_train %>%\n",
    "group_by(understanding_level) %>%\n",
    "    summarize(count = n())\n",
    "knowledge_labels"
   ]
  },
  {
   "cell_type": "markdown",
   "metadata": {},
   "source": [
    "          Table.4 User Knowledge Data Understanding Level Count\n",
    "---"
   ]
  },
  {
   "cell_type": "markdown",
   "metadata": {},
   "source": [
    "Regarding the amount of observations in each category, it can be seen a small amount of participants scored very low. Additionally, a small group scored very high. The distributions of every category will help choose the appropriate K value. The K value should not be double our smallest category (very_low). Otherwise, the smallest category will never have enough k-nn \"voting power\"."
   ]
  },
  {
   "cell_type": "markdown",
   "metadata": {},
   "source": [
    "## Visualizing Our Data\n",
    "Next, we will use plots to observe trends between predictor variables. We will compare our predictors to each other and note how distinct the clusters of `understanding_level` are. Tighter clusters with more separation will make it easier for our KNN model to predict labels correctly. Thus, the more appropriate predictors will be in our final model. The strength of the cluster 'tightness', along with forward selection will help determine which predictors should be used in the final model."
   ]
  },
  {
   "cell_type": "code",
   "execution_count": 1,
   "metadata": {},
   "outputs": [
    {
     "ename": "ERROR",
     "evalue": "Error in knowledge_train %>% ggpairs(columns = 1:5, mapping = ggplot2::aes(colour = understanding_level)): could not find function \"%>%\"\n",
     "output_type": "error",
     "traceback": [
      "Error in knowledge_train %>% ggpairs(columns = 1:5, mapping = ggplot2::aes(colour = understanding_level)): could not find function \"%>%\"\nTraceback:\n"
     ]
    }
   ],
   "source": [
    "options(repr.plot.width = 10, repr.plot.height = 12)\n",
    "\n",
    "pairs <- knowledge_train %>%\n",
    "    ggpairs(columns = 1:5, mapping=ggplot2::aes(colour = understanding_level)) +\n",
    "        theme(legend.position = \"bottom\") +\n",
    "        labs(tag = \"Figure.1\") +\n",
    "        ggtitle(\"Predictor Combinations\") +\n",
    "        theme(text = element_text(size = 12))\n",
    "\n",
    "pairs"
   ]
  },
  {
   "cell_type": "markdown",
   "metadata": {},
   "source": [
    "**Legend**\n",
    "\n",
    "Green: High\n",
    "\n",
    "Purple: Middle\n",
    "\n",
    "Cyan: Low\n",
    "\n",
    "Red: Very Low"
   ]
  },
  {
   "cell_type": "markdown",
   "metadata": {},
   "source": [
    "From the plot, it is visible that targeted_exam_performance should be included in our model, since all other predictors produce tightly clustered groups of `understanding_levels` in comparison. Furthermore, `prereq_exam_performance` and `targeted_exam_performance` form the tightest clustering. However, other predictors coupled with `targeted_exam_performance` form separate clusters in a similar manner. For now, we can be confident that both `prereq_exam_performance` and `targeted_exam_performance` should be used as predictors in our final model."
   ]
  },
  {
   "cell_type": "markdown",
   "metadata": {},
   "source": [
    "# Choosing Predictors with Forward Selection\n"
   ]
  },
  {
   "cell_type": "markdown",
   "metadata": {},
   "source": [
    "To choose our final predictors, forward selection will be performed. It creates a model for every possible combination of predictors and compares the accuracies of each one. The combination of predictors that gives us the highest accuracy will be chosen."
   ]
  },
  {
   "cell_type": "markdown",
   "metadata": {},
   "source": [
    "### ****Step 1****\n",
    "First, a tibble that stores our results will be created to begin forward selection. "
   ]
  },
  {
   "cell_type": "code",
   "execution_count": 8,
   "metadata": {},
   "outputs": [
    {
     "data": {
      "text/html": [
       "<table>\n",
       "<caption>A tibble: 0 × 3</caption>\n",
       "<thead>\n",
       "\t<tr><th scope=col>size</th><th scope=col>model_string</th><th scope=col>accuracy</th></tr>\n",
       "\t<tr><th scope=col>&lt;int&gt;</th><th scope=col>&lt;chr&gt;</th><th scope=col>&lt;dbl&gt;</th></tr>\n",
       "</thead>\n",
       "<tbody>\n",
       "</tbody>\n",
       "</table>\n"
      ],
      "text/latex": [
       "A tibble: 0 × 3\n",
       "\\begin{tabular}{lll}\n",
       " size & model\\_string & accuracy\\\\\n",
       " <int> & <chr> & <dbl>\\\\\n",
       "\\hline\n",
       "\\end{tabular}\n"
      ],
      "text/markdown": [
       "\n",
       "A tibble: 0 × 3\n",
       "\n",
       "| size &lt;int&gt; | model_string &lt;chr&gt; | accuracy &lt;dbl&gt; |\n",
       "|---|---|---|\n",
       "\n"
      ],
      "text/plain": [
       "     size model_string accuracy"
      ]
     },
     "metadata": {},
     "output_type": "display_data"
    }
   ],
   "source": [
    "accuracies <- tibble(size = integer(), \n",
    "                     model_string = character(), \n",
    "                     accuracy = numeric())\n",
    "accuracies"
   ]
  },
  {
   "cell_type": "markdown",
   "metadata": {},
   "source": [
    "### ****Step 2****\n",
    "Since the same specifications are used throughout the process, we will create it the beginning."
   ]
  },
  {
   "cell_type": "code",
   "execution_count": 9,
   "metadata": {},
   "outputs": [],
   "source": [
    "knn_spec <- nearest_neighbor(weight_func = \"rectangular\", neighbors = tune()) %>%\n",
    "  set_engine(\"kknn\") %>%\n",
    "  set_mode(\"classification\")"
   ]
  },
  {
   "cell_type": "markdown",
   "metadata": {},
   "source": [
    "### ****Step 3****\n",
    "Next, a 10-vold cross-validation object is created. A 10-fold is used instead of a 5-fold object since the dataset is relatively small."
   ]
  },
  {
   "cell_type": "code",
   "execution_count": 10,
   "metadata": {},
   "outputs": [],
   "source": [
    "set.seed(1)\n",
    "user_vfold <- vfold_cv(knowledge_train, v = 10, strata = understanding_level)"
   ]
  },
  {
   "cell_type": "markdown",
   "metadata": {},
   "source": [
    "### ****Step 4****\n",
    "Since no forward selection exists in R, several things should be prepared. First we get the names of all the potential predictors, and store the total number of predictors."
   ]
  },
  {
   "cell_type": "code",
   "execution_count": 11,
   "metadata": {},
   "outputs": [],
   "source": [
    "names <- colnames(knowledge_train %>% select(-understanding_level))"
   ]
  },
  {
   "cell_type": "code",
   "execution_count": 12,
   "metadata": {},
   "outputs": [],
   "source": [
    "n_total <- length(names)"
   ]
  },
  {
   "cell_type": "markdown",
   "metadata": {},
   "source": [
    "The selected predictors should be stored."
   ]
  },
  {
   "cell_type": "code",
   "execution_count": 13,
   "metadata": {},
   "outputs": [],
   "source": [
    "selected <- c()"
   ]
  },
  {
   "cell_type": "markdown",
   "metadata": {},
   "source": [
    "### ****Step 5****\n",
    "Now forward selection is performed: we use a loop to iterate through all the unselected predictors to determine the ones that gives the highest accuracy, and store the results into the tibble we created earlier."
   ]
  },
  {
   "cell_type": "code",
   "execution_count": 14,
   "metadata": {},
   "outputs": [
    {
     "data": {
      "text/html": [
       "<table>\n",
       "<caption>A tibble: 5 × 3</caption>\n",
       "<thead>\n",
       "\t<tr><th scope=col>size</th><th scope=col>model_string</th><th scope=col>accuracy</th></tr>\n",
       "\t<tr><th scope=col>&lt;int&gt;</th><th scope=col>&lt;chr&gt;</th><th scope=col>&lt;dbl&gt;</th></tr>\n",
       "</thead>\n",
       "<tbody>\n",
       "\t<tr><td>1</td><td>understanding_level ~ targeted_exam_performance                                                                         </td><td>0.8524896</td></tr>\n",
       "\t<tr><td>2</td><td>understanding_level ~ targeted_exam_performance+prereq_exam_performance                                                 </td><td>0.9596032</td></tr>\n",
       "\t<tr><td>3</td><td>understanding_level ~ targeted_exam_performance+prereq_exam_performance+repetition                                      </td><td>0.9384670</td></tr>\n",
       "\t<tr><td>4</td><td>understanding_level ~ targeted_exam_performance+prereq_exam_performance+repetition+targeted_study_time                  </td><td>0.8767502</td></tr>\n",
       "\t<tr><td>5</td><td>understanding_level ~ targeted_exam_performance+prereq_exam_performance+repetition+targeted_study_time+prereq_study_time</td><td>0.7860109</td></tr>\n",
       "</tbody>\n",
       "</table>\n"
      ],
      "text/latex": [
       "A tibble: 5 × 3\n",
       "\\begin{tabular}{lll}\n",
       " size & model\\_string & accuracy\\\\\n",
       " <int> & <chr> & <dbl>\\\\\n",
       "\\hline\n",
       "\t 1 & understanding\\_level \\textasciitilde{} targeted\\_exam\\_performance                                                                          & 0.8524896\\\\\n",
       "\t 2 & understanding\\_level \\textasciitilde{} targeted\\_exam\\_performance+prereq\\_exam\\_performance                                                  & 0.9596032\\\\\n",
       "\t 3 & understanding\\_level \\textasciitilde{} targeted\\_exam\\_performance+prereq\\_exam\\_performance+repetition                                       & 0.9384670\\\\\n",
       "\t 4 & understanding\\_level \\textasciitilde{} targeted\\_exam\\_performance+prereq\\_exam\\_performance+repetition+targeted\\_study\\_time                   & 0.8767502\\\\\n",
       "\t 5 & understanding\\_level \\textasciitilde{} targeted\\_exam\\_performance+prereq\\_exam\\_performance+repetition+targeted\\_study\\_time+prereq\\_study\\_time & 0.7860109\\\\\n",
       "\\end{tabular}\n"
      ],
      "text/markdown": [
       "\n",
       "A tibble: 5 × 3\n",
       "\n",
       "| size &lt;int&gt; | model_string &lt;chr&gt; | accuracy &lt;dbl&gt; |\n",
       "|---|---|---|\n",
       "| 1 | understanding_level ~ targeted_exam_performance                                                                          | 0.8524896 |\n",
       "| 2 | understanding_level ~ targeted_exam_performance+prereq_exam_performance                                                  | 0.9596032 |\n",
       "| 3 | understanding_level ~ targeted_exam_performance+prereq_exam_performance+repetition                                       | 0.9384670 |\n",
       "| 4 | understanding_level ~ targeted_exam_performance+prereq_exam_performance+repetition+targeted_study_time                   | 0.8767502 |\n",
       "| 5 | understanding_level ~ targeted_exam_performance+prereq_exam_performance+repetition+targeted_study_time+prereq_study_time | 0.7860109 |\n",
       "\n"
      ],
      "text/plain": [
       "  size\n",
       "1 1   \n",
       "2 2   \n",
       "3 3   \n",
       "4 4   \n",
       "5 5   \n",
       "  model_string                                                                                                            \n",
       "1 understanding_level ~ targeted_exam_performance                                                                         \n",
       "2 understanding_level ~ targeted_exam_performance+prereq_exam_performance                                                 \n",
       "3 understanding_level ~ targeted_exam_performance+prereq_exam_performance+repetition                                      \n",
       "4 understanding_level ~ targeted_exam_performance+prereq_exam_performance+repetition+targeted_study_time                  \n",
       "5 understanding_level ~ targeted_exam_performance+prereq_exam_performance+repetition+targeted_study_time+prereq_study_time\n",
       "  accuracy \n",
       "1 0.8524896\n",
       "2 0.9596032\n",
       "3 0.9384670\n",
       "4 0.8767502\n",
       "5 0.7860109"
      ]
     },
     "metadata": {},
     "output_type": "display_data"
    }
   ],
   "source": [
    "set.seed(1)\n",
    "# for every size from 1 to the total number of predictors\n",
    "for (i in 1:n_total) {\n",
    "    # for every predictor still not added yet\n",
    "    accs <- list()\n",
    "    models <- list()\n",
    "    for (j in 1:length(names)) {\n",
    "        # create a model string for this combination of predictors\n",
    "        preds_new <- c(selected, names[[j]])\n",
    "        model_string <- paste(\"understanding_level\", \"~\", paste(preds_new, collapse=\"+\"))\n",
    "\n",
    "        # create a recipe from the model string\n",
    "        user_recipe <- recipe(as.formula(model_string), \n",
    "                              data = knowledge_train) %>%\n",
    "        step_scale(all_predictors()) %>%\n",
    "        step_center(all_predictors())\n",
    "\n",
    "        # tune the KNN classifier with these predictors, \n",
    "        # and collect the accuracy for the best K\n",
    "        acc <- workflow() %>%\n",
    "          add_recipe(user_recipe) %>%\n",
    "          add_model(knn_spec) %>%\n",
    "          tune_grid(resamples = user_vfold, grid = 10) %>%\n",
    "          collect_metrics() %>%\n",
    "          filter(.metric == \"accuracy\") %>%\n",
    "          summarize(mx = max(mean))\n",
    "        acc <- acc$mx %>% unlist()\n",
    "\n",
    "        # add this result to the dataframe\n",
    "        accs[[j]] <- acc\n",
    "        models[[j]] <- model_string\n",
    "    }\n",
    "    jstar <- which.max(unlist(accs))\n",
    "    accuracies <- accuracies %>%\n",
    "      add_row(size = i, \n",
    "              model_string = models[[jstar]], \n",
    "              accuracy = accs[[jstar]])\n",
    "    selected <- c(selected, names[[jstar]])\n",
    "    names <- names[-jstar]\n",
    "}\n",
    "accuracies"
   ]
  },
  {
   "cell_type": "markdown",
   "metadata": {},
   "source": [
    "                     Table.5 Accuracy Based On Predictor Combinations\n",
    "---"
   ]
  },
  {
   "cell_type": "markdown",
   "metadata": {},
   "source": [
    "## Conclusion of Choosing Predictors\n",
    "By comparing the accuracies, we can conclude that we should use `targeted_exam_performance` and `prerequisite_exam_performance` as our predictors, since these give the highest accuracy of ~96%. This perfectly matches what we had seen in our visualization earlier, with the tightly clustered groups when we plotted `targeted_exam_performance` and `prerequisite_exam_performance`\n",
    "against each other."
   ]
  },
  {
   "cell_type": "markdown",
   "metadata": {},
   "source": [
    "## **Visualizing Our Results**\n",
    "\n",
    "There are two ways that we will visualize the results of our final model.\n",
    "\n",
    "Firstly, because we expect the accuracy of our model to be very high, and because our data set is quite small, we do not expect many observations from our testing set to be incorrectly predicted. We can thus create two plots, with the x and y axis as our two predictors: one with the observations colour-coded as their predicted class lable, and another with the observations colour-coded as their actual class labels. Then, we can simply circle the observations that the model got incorrect and discuss these inaccuracies.\n",
    "\n",
    "Secondly, because we are interested in analyzing whether the model potentially leaned towards over- or under-predicting the knowledge level of our observations, we can use a confusion matrix to compare false positives and negatives. We can discuss whether a higher false prediction (i.e. predicting an incorrect `high` knowledge level for a `low` observation) or a lower false prediction (i.e. predicting an incorrect `low` knowledge level for a `high` observation) is more meaningful/has greater consequences."
   ]
  },
  {
   "cell_type": "markdown",
   "metadata": {},
   "source": [
    "## **Model Expectations**"
   ]
  },
  {
   "cell_type": "markdown",
   "metadata": {},
   "source": [
    "Now that we have fully analyzed our data, we expect to find that students with higher prerequisite knowledge and exam score will be classified as having a higher knowledge level.     "
   ]
  },
  {
   "cell_type": "markdown",
   "metadata": {},
   "source": [
    "# ***Our Final Classification Model***\n",
    "\n",
    "Now that we know what predictors we are going to use - `targeted_exam_performance` and `prerequisite_exam_performance` - we can create our final model. Note that we use the training data throughout this process.\n"
   ]
  },
  {
   "cell_type": "markdown",
   "metadata": {},
   "source": [
    "First of all, we will create a final recipe with these two predictors. As previously mentioned, we do not *need* to scale and center our data since our data appears to be standardized already, however, we will standardize it again to ensure we get the best possible results from our model. "
   ]
  },
  {
   "cell_type": "code",
   "execution_count": 15,
   "metadata": {},
   "outputs": [],
   "source": [
    "user_recipe_final <- recipe(understanding_level ~ prereq_exam_performance + targeted_exam_performance, data = knowledge_train) %>%\n",
    "  step_scale(all_predictors()) %>%\n",
    "  step_center(all_predictors())"
   ]
  },
  {
   "cell_type": "markdown",
   "metadata": {},
   "source": [
    "We will need a knn model specification as well, specifying `neighbors = tune()` since we will first be choosing our k value."
   ]
  },
  {
   "cell_type": "code",
   "execution_count": 16,
   "metadata": {},
   "outputs": [],
   "source": [
    "knn_spec <- nearest_neighbor(weight_func = \"rectangular\", neighbors = tune()) %>%\n",
    "  set_engine(\"kknn\") %>%\n",
    "  set_mode(\"classification\")"
   ]
  },
  {
   "cell_type": "markdown",
   "metadata": {},
   "source": [
    "To help us choose our k value, we will cross validate. So we create a 10-fold cross-validation model. Recall that we use a 10-fold because our dataset is small."
   ]
  },
  {
   "cell_type": "code",
   "execution_count": 17,
   "metadata": {},
   "outputs": [],
   "source": [
    "set.seed(1)\n",
    "user_vfold <- vfold_cv(knowledge_train, v = 10, strata = understanding_level)"
   ]
  },
  {
   "cell_type": "markdown",
   "metadata": {},
   "source": [
    "Now let's create a tibble with different k values. As discussed previously, the range of k value that we choose to test depends largely on the size of our smallest class label in our training data set."
   ]
  },
  {
   "cell_type": "markdown",
   "metadata": {},
   "source": [
    "Observe that our smallest class label is `very_low` with only 20 observations. This means that our k value must not *exceed* a value of 40, since any k above 40 would mean that the `very_low` class label will *never* have enough voting power - even if all 20 of the `very_low` observations are within the k nearest points, it would never achieve a majority vote. Our model would never predict the `very_low` category. \n",
    "\n",
    "To reduce the possibility of a 'tie', we will let our 'maximum-k-value-to-try' be 39 instead of 40. "
   ]
  },
  {
   "cell_type": "code",
   "execution_count": 18,
   "metadata": {},
   "outputs": [],
   "source": [
    "gridvals <- tibble(neighbors = seq(1,39))"
   ]
  },
  {
   "cell_type": "markdown",
   "metadata": {},
   "source": [
    "Finally, we combine everything into a workflow and collect metrics on our model."
   ]
  },
  {
   "cell_type": "code",
   "execution_count": 19,
   "metadata": {},
   "outputs": [],
   "source": [
    "knn_results <- workflow() %>%\n",
    "  add_recipe(user_recipe_final) %>%\n",
    "  add_model(knn_spec) %>%\n",
    "  tune_grid(resamples = user_vfold, grid = gridvals) %>%\n",
    "  collect_metrics()"
   ]
  },
  {
   "cell_type": "markdown",
   "metadata": {},
   "source": [
    "Filter for the accuracy metrics."
   ]
  },
  {
   "cell_type": "code",
   "execution_count": 20,
   "metadata": {},
   "outputs": [],
   "source": [
    "accuracies <- knn_results %>%\n",
    "  filter(.metric == \"accuracy\")"
   ]
  },
  {
   "cell_type": "markdown",
   "metadata": {},
   "source": [
    "Let us create a graph to visualize the relationship between K values and accuracies. This will help us choose our k value."
   ]
  },
  {
   "cell_type": "code",
   "execution_count": 21,
   "metadata": {},
   "outputs": [
    {
     "data": {
      "image/png": "[encoded data removed]",
      "text/plain": [
       "plot without title"
      ]
     },
     "metadata": {
      "image/png": {
       "height": 720,
       "width": 600
      }
     },
     "output_type": "display_data"
    }
   ],
   "source": [
    "accuracy_vs_k <- ggplot(accuracies, aes(x = neighbors, y = mean)) +\n",
    "  geom_point() +\n",
    "  geom_line() +\n",
    "  labs(x = \"Neighbors\", y = \"Accuracy Estimate\") +\n",
    "  labs(tag = \"Figure.2\") +\n",
    "  ggtitle(\"Accuracy vs. K-value\") +\n",
    "  theme(text = element_text(size = 12))\n",
    "\n",
    "accuracy_vs_k"
   ]
  },
  {
   "cell_type": "markdown",
   "metadata": {},
   "source": [
    "Now we can decide which k value to use. To do this, we will keep three principles in mind. Our k value must:\n",
    "1. ensure we get rough optimal accuracy\n",
    "2. be relatively stable (i.e. increasing or decreasing the k value by a small amount doesn't change the accuracy of our model too much)\n",
    "3. not be too large\n",
    "\n",
    "We can see that between k = 1 and k = 10, our k values are quite high, stable, and obviously not too large. We also note that the accuracy of our model decreases sharply after k = 10, so we do not want to choose our k value to be greater than 10. Furthermore, while there is a seemingly big dip in the k values from k = 2 to k = 5, note that the scale of the x axis means the dip looks much bigger than it truly is. So we know we want to look for a k in that area. \n",
    "\n",
    "Since the k values don't change too much within k = 1 and k = 10, we are free to choose a k that gives us the highest accuracy within this range. This value would be either k = 6 or k = 7. Because their accuracies are exactly the same, we then move to comparing how much the accuracies change when we increase and decrease the k value. \n",
    "\n",
    "Observe that the difference in accuracy between from k = 7 to k = 8 is greater than the difference in accuracy between k = 5 and k = 6. For this reason, we will choose **k = 6**. However, note that the differences between k = 6 and k = 7 are so incredibly minute that it likely would not impact our model significantly if we had chosen k = 7. "
   ]
  },
  {
   "cell_type": "markdown",
   "metadata": {},
   "source": [
    "# ***Our Final Classification Model With K = 6***"
   ]
  },
  {
   "cell_type": "markdown",
   "metadata": {},
   "source": [
    "Now we should create a new specification model with k = 6."
   ]
  },
  {
   "cell_type": "code",
   "execution_count": 22,
   "metadata": {},
   "outputs": [],
   "source": [
    "user_spec_final <- nearest_neighbor(weight_func = \"rectangular\", neighbors = 6) %>%\n",
    "  set_engine(\"kknn\") %>%\n",
    "  set_mode(\"classification\")"
   ]
  },
  {
   "cell_type": "markdown",
   "metadata": {},
   "source": [
    "We put the new specification into the workflow and reuse the previous recipe."
   ]
  },
  {
   "cell_type": "code",
   "execution_count": 23,
   "metadata": {},
   "outputs": [],
   "source": [
    "user_fit_final <- workflow() %>%\n",
    "    add_model(user_spec_final) %>%\n",
    "    add_recipe(user_recipe_final) %>%\n",
    "    fit(knowledge_train)"
   ]
  },
  {
   "cell_type": "markdown",
   "metadata": {},
   "source": [
    "Now let us predict the test set that we separated earlier. "
   ]
  },
  {
   "cell_type": "code",
   "execution_count": 24,
   "metadata": {},
   "outputs": [],
   "source": [
    "user_prediction <- user_fit_final %>%\n",
    "    predict(knowledge_test) %>%\n",
    "    bind_cols(knowledge_test)"
   ]
  },
  {
   "cell_type": "markdown",
   "metadata": {},
   "source": [
    "Finally, let us view the accuracy of our prediction."
   ]
  },
  {
   "cell_type": "code",
   "execution_count": 25,
   "metadata": {},
   "outputs": [
    {
     "data": {
      "text/html": [
       "<table>\n",
       "<caption>A tibble: 1 × 3</caption>\n",
       "<thead>\n",
       "\t<tr><th scope=col>.metric</th><th scope=col>.estimator</th><th scope=col>.estimate</th></tr>\n",
       "\t<tr><th scope=col>&lt;chr&gt;</th><th scope=col>&lt;chr&gt;</th><th scope=col>&lt;dbl&gt;</th></tr>\n",
       "</thead>\n",
       "<tbody>\n",
       "\t<tr><td>accuracy</td><td>multiclass</td><td>0.9365079</td></tr>\n",
       "</tbody>\n",
       "</table>\n"
      ],
      "text/latex": [
       "A tibble: 1 × 3\n",
       "\\begin{tabular}{lll}\n",
       " .metric & .estimator & .estimate\\\\\n",
       " <chr> & <chr> & <dbl>\\\\\n",
       "\\hline\n",
       "\t accuracy & multiclass & 0.9365079\\\\\n",
       "\\end{tabular}\n"
      ],
      "text/markdown": [
       "\n",
       "A tibble: 1 × 3\n",
       "\n",
       "| .metric &lt;chr&gt; | .estimator &lt;chr&gt; | .estimate &lt;dbl&gt; |\n",
       "|---|---|---|\n",
       "| accuracy | multiclass | 0.9365079 |\n",
       "\n"
      ],
      "text/plain": [
       "  .metric  .estimator .estimate\n",
       "1 accuracy multiclass 0.9365079"
      ]
     },
     "metadata": {},
     "output_type": "display_data"
    }
   ],
   "source": [
    "user_prediction_accuracy <-  user_prediction %>%\n",
    "  metrics(truth = understanding_level, estimate = .pred_class) %>%\n",
    "  filter(.metric == \"accuracy\")\n",
    "\n",
    "user_prediction_accuracy"
   ]
  },
  {
   "cell_type": "markdown",
   "metadata": {},
   "source": [
    "    Table.6 Accuracy Of Optimized K Value\n",
    "---"
   ]
  },
  {
   "cell_type": "markdown",
   "metadata": {},
   "source": [
    "We will analyze the results of our classifiers after we have visualized our results also via plots and a confusion matrix. "
   ]
  },
  {
   "cell_type": "markdown",
   "metadata": {},
   "source": [
    "## Visualization of model results"
   ]
  },
  {
   "cell_type": "markdown",
   "metadata": {},
   "source": [
    "Now we can visualize our results by plotting two graphs as previously described: one that classifies the observations by their predicted class, and one that classifies them by their actual class. We can then find the incorrectly classified points, circle them, and later analyze them."
   ]
  },
  {
   "cell_type": "code",
   "execution_count": 26,
   "metadata": {},
   "outputs": [
    {
     "data": {
      "image/png": "[encoded data removed]",
      "text/plain": [
       "plot without title"
      ]
     },
     "metadata": {
      "image/png": {
       "height": 480,
       "width": 1200
      }
     },
     "output_type": "display_data"
    }
   ],
   "source": [
    "options(repr.plot.width = 20, repr.plot.height = 8)\n",
    "\n",
    "# create vectors containing the coordinates of the incorrectly-labelled points to circle\n",
    "upper_left_point <- c(0.22,0.66)\n",
    "lower_left_points <- c(0.26,0.22)\n",
    "lower_right_point <- c(0.99,0.24)\n",
    "\n",
    "# predicted labels plot\n",
    "user_predicted_plot <- user_prediction %>% \n",
    "    ggplot(aes(x = prereq_exam_performance, y = targeted_exam_performance, color = .pred_class)) +\n",
    "        geom_point() + \n",
    "        labs(x = \"Prereq exam performance\", y = \"Targeted exam performance\", color = \"Predicted user understanding level\") +\n",
    "        ggtitle(\"Predicted user understanding level\") +\n",
    "        # now we circle the incorrectly labelled points\n",
    "        annotate(\"path\", \n",
    "                     x=upper_left_point[1] + 0.01*cos(seq(0,2*pi,length.out=100)),\n",
    "                     y=upper_left_point[2] + 0.02*sin(seq(0,2*pi,length.out=100))) +\n",
    "         annotate(\"path\", \n",
    "                     x=lower_left_points[1] + 0.02*cos(seq(0,2*pi,length.out=100)),\n",
    "                     y=lower_left_points[2] + 0.05*sin(seq(0,2*pi,length.out=100))) +\n",
    "        annotate(\"path\", \n",
    "                     x=lower_right_point[1] + 0.03*cos(seq(0,2*pi,length.out=100)),\n",
    "                     y=lower_right_point[2] + 0.02*sin(seq(0,2*pi,length.out=100))) +\n",
    "        labs(tag = \"Figure.4\") +\n",
    "        theme(text = element_text(size = 14))\n",
    "\n",
    "# actual labels plot\n",
    "user_class_plot <- user_prediction %>% \n",
    "    ggplot(aes(x = prereq_exam_performance, y = targeted_exam_performance, color = understanding_level)) +\n",
    "        geom_point() + \n",
    "        labs(x = \"Prereq exam performance\", y = \"Targeted exam performance\", color = \"Predicted user understanding level\") +\n",
    "        ggtitle(\"Actual user understanding level\") +\n",
    "        labs(tag = \"Figure.3\") +\n",
    "        theme(text = element_text(size = 14))\n",
    "\n",
    "\n",
    "plot_grid(user_class_plot, user_predicted_plot, nrow = 1)"
   ]
  },
  {
   "cell_type": "markdown",
   "metadata": {},
   "source": [
    "## Confusion Matrix\n",
    "\n",
    "The final tool in our toolkit for analyzing the results of our model is the confusion matrix. Let's create one."
   ]
  },
  {
   "cell_type": "code",
   "execution_count": 27,
   "metadata": {},
   "outputs": [
    {
     "data": {
      "text/plain": [
       "          Truth\n",
       "Prediction very_low High Low Middle\n",
       "  very_low        2    0   0      0\n",
       "  High            0   15   0      0\n",
       "  Low             2    0  20      0\n",
       "  Middle          0    1   1     22"
      ]
     },
     "metadata": {},
     "output_type": "display_data"
    }
   ],
   "source": [
    "user_mat <- user_prediction %>%\n",
    "    conf_mat(truth = understanding_level, estimate = .pred_class)\n",
    "user_mat"
   ]
  },
  {
   "cell_type": "markdown",
   "metadata": {},
   "source": [
    "    Table.7 Confusion Matrix\n",
    "---"
   ]
  },
  {
   "cell_type": "markdown",
   "metadata": {},
   "source": [
    "# **Final Analysis**"
   ]
  },
  {
   "cell_type": "markdown",
   "metadata": {},
   "source": [
    "Using three analysis tools (accuracy levels, two visualizations, and the confusion matrix) it is possible to analyze the model and its results.\n",
    "\n",
    "As expected, we found that students with higher prerequisite knowledge and exam score will be classified as having a higher knowledge level.\n",
    "\n",
    "These findings could highlight the importance of having a solid foundation of basic knowledge prior to learning more complex materials, and describe how the amount of time studied influences one’s knowledge level. Some future questions that our analysis could lead to are \"what factors determine/influence exam performance?\" and \"what other study methods, other than the amount of time studied, can influence exam performance?\". \n",
    "\n",
    "---\n",
    "## Discussion - Model Accuracy \n",
    "\n",
    "The accuracy of our classifier is high (<90%). Although this might indicate incorrect procedure use upon closer inspection, this matches our expectations. \n",
    "\n",
    "Firstly, forward selection concluded that when two predictors were used, accuracy was at its highest (≈95%). This accuracy occured when a value of k = 6 was used Lastly, in our initial visualization we noticed extremely tight clustering between our `targeted_exam_performance` and `prerequisite_exam_performance` predictors. This visualization explains why our classifier accuracy is this high: a correctly chosen k value and tight clustering signifies that the model will be more efficient in classifying observations.\n",
    "\n",
    "---\n",
    "\n",
    "This accuracy is reflected in our two plots (note - there are only 4 labeled points).  Additionally, some of these points were difficult to label (except the upper left observation), as they were all on the border of two classes. The point might be an anomaly; it is surrounded by middle observations, and is incorrectly classified as high in the original dataset (thus it is incorrect).\n",
    "\n",
    "---\n",
    "The confusion matrix describes the type and amount of incorrect predictions made by the model. Since there are 4 different labels, it is impossible to classify the prediction types as “negative” or “positive”. Instead, they were grouped into two categories - \n",
    "\n",
    "1. **overestimate**: This occurs when the model predicts a *higher* than expected knowledge level for an observation.\n",
    "2. **underestimate**: This is when the model predicts a *lower* than expected knowledge for an observation.\n",
    "    \n",
    "Given the context of our data, two conditions are used to analyze the contextual accuracy of the data:\n",
    "\n",
    "### a. we consider **overestimates** to have \"worse\" consequences than underestimates. \n",
    "\n",
    "### b. the more knowledge levels a prediction \"skips\", the \"worse\" the consequences.\n",
    "\n",
    "*Worse* consequences can be explained as having more severe “real-world” consequences.\n",
    "\n",
    "Consider the following scenario: \n",
    "\n",
    "An online, self-learning module continuously takes input from the user to understand what their current knowledge level is based on previous exam scores. The module is building up an understanding of how well the student understands the topic. Say the module gives students quizzes. It chooses the difficulty of questions to present to the student based on what it thinks the student's understanding level is. Then we consider the following further scenarios: \n",
    "\n",
    "1. It is less favorable to give a student an extremely easy question than an easy one, since an overly easy question will not aid in learning progression. \n",
    "2. It is more favorable to five a student a difficult question than an overly difficult one, as an overly difficult question may discourage students, decreasing motivation. \n",
    "3. Regardless of model accuracy, simpler questions are more effective at reinforcing student understanding in comparison to difficult ones. More difficult questions might be outside of the student’s knowledge scope, while simpler questions test current knowledge.Thus, a smaller challenge will be more beneficial in helping students test their current knowledge, which outweighs the meager benefits of using difficult questions. \n",
    "\n",
    "Points 1 and 2 highlight point b above. Point 3 highlights point a. \n",
    "\n",
    "\n",
    "Another scenario-\n",
    "An employer is open for hiring, and there are two candidates they must choose between. To ensure that the employee's knowledge level is up to par, it is more favorable to underestimate one's knowledge level, than to overestimate their knowledge level. Although this might seem unfair for employees presenting an accurate knowledge level, if one employee is presenting an inflated knowledge level, this precaution prevents them from being accepted.   \n",
    "\n",
    "These two scenarios help us understand that it is better for our model to underestimate user knowledge to a small degree, versus overestimate user knowledge to a large degree. With that in mind, let us analyze our confusion matrix. "
   ]
  },
  {
   "cell_type": "code",
   "execution_count": 28,
   "metadata": {},
   "outputs": [
    {
     "data": {
      "text/plain": [
       "          Truth\n",
       "Prediction very_low High Low Middle\n",
       "  very_low        2    0   0      0\n",
       "  High            0   15   0      0\n",
       "  Low             2    0  20      0\n",
       "  Middle          0    1   1     22"
      ]
     },
     "metadata": {},
     "output_type": "display_data"
    }
   ],
   "source": [
    "user_mat"
   ]
  },
  {
   "cell_type": "markdown",
   "metadata": {},
   "source": [
    "Our model made 4 incorrect classifications. Let's categorize them based on what we discussed above. \n",
    "\n",
    "- 3 observations were underestimated (two were supposed to be `low`, but predicted `very_low`; one was supposed to be `middle` but predicted `low`)\n",
    "- 1 observation was overestimated (supposed to be `middle`, but predicted `high`)\n",
    "\n",
    "Thus our model has performed well according to the context-based metrics we discussed. It has predicted more underestimates than overestimates, and each inaccurate prediction was only one category off (i.e. degree of inaccuracy is small). It's important to note that because our data set is so small, the significance of these findings is not incredibly high."
   ]
  },
  {
   "cell_type": "markdown",
   "metadata": {},
   "source": [
    "---\n",
    "There are, however, some issues with our model that we can discuss also. \n",
    "\n",
    "Firstly, our data set is very small. Had we had access to a larger data set, it is likely that our model's accuracy would not be this high. There would be many more anomalies in our data like the point in the upper left corner of our plot. Secondly, our model unfortunately doesn't use the much greater variety of data that we have access to: the other predictors. It just so happens that the correlation between our class label and our predictors was strongest in the two predictors we picked, however, it would be interesting to see what other correlations could be drawn from the other predictors. "
   ]
  },
  {
   "cell_type": "markdown",
   "metadata": {},
   "source": [
    "# Conclusion\n",
    "\n",
    "We can conclude that our model's accuracy is incredibly high, and also performed well in context-based scenarios. We also note, however, that this high accuracy is partially credited towards our small data set. "
   ]
  },
  {
   "cell_type": "markdown",
   "metadata": {},
   "source": [
    "# Citations\n",
    "\n",
    "1. Kahraman, H. T., Sagiroglu, S., & Colak, I. (2013). The development of intuitive knowledge classifier and the modeling of domain dependent data. *Knowledge-Based Systems, 37*, 283-295.\n",
    "\n",
    "2. Kahraman, H. T. (2009). Designing and Application of Web-Based Adaptive Intelligent Education System. Gazi University Ph. D. Thesis, Turkey, 1-156.\n"
   ]
  }
 ],
 "metadata": {
  "kernelspec": {
   "display_name": "R",
   "language": "R",
   "name": "ir"
  },
  "language_info": {
   "codemirror_mode": "r",
   "file_extension": ".r",
   "mimetype": "text/x-r-source",
   "name": "R",
   "pygments_lexer": "r",
   "version": "4.0.0"
  }
 },
 "nbformat": 4,
 "nbformat_minor": 4
}
